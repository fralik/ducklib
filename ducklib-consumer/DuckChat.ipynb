{
 "cells": [
  {
   "cell_type": "markdown",
   "metadata": {},
   "source": [
    "# Exploration of ducklib library\n",
    "\n",
    "First thing first, let's see that the library is installed and we are able to run it."
   ]
  },
  {
   "cell_type": "code",
   "execution_count": null,
   "metadata": {},
   "outputs": [],
   "source": [
    "import ducklib"
   ]
  },
  {
   "cell_type": "code",
   "execution_count": null,
   "metadata": {},
   "outputs": [],
   "source": [
    "ducklib.say_hi()"
   ]
  },
  {
   "cell_type": "markdown",
   "metadata": {},
   "source": [
    "We are going to look a bit at out library with the help of [inspect](https://docs.python.org/3/library/inspect.html)."
   ]
  },
  {
   "cell_type": "code",
   "execution_count": null,
   "metadata": {},
   "outputs": [],
   "source": [
    "import inspect"
   ]
  },
  {
   "cell_type": "code",
   "execution_count": null,
   "metadata": {},
   "outputs": [],
   "source": [
    "inspect.getsource(ducklib.main.say_hi)"
   ]
  },
  {
   "cell_type": "markdown",
   "metadata": {},
   "source": [
    "Interesting, we see that username and password are read from the environment and then there is `auth.is_user_valid` call. Let's look at it. But first we need to figure out where this function is."
   ]
  },
  {
   "cell_type": "code",
   "execution_count": null,
   "metadata": {},
   "outputs": [],
   "source": [
    "dir(ducklib)"
   ]
  },
  {
   "cell_type": "markdown",
   "metadata": {},
   "source": [
    "We see that `ducklib` provides three functions or modules:\n",
    "\n",
    "1. `auth`\n",
    "2. `auth_functions`, that one is just for illustrative purposes as I will show two ways of tampering.\n",
    "3. `main`\n"
   ]
  },
  {
   "cell_type": "code",
   "execution_count": null,
   "metadata": {},
   "outputs": [],
   "source": [
    "dir(ducklib.auth)"
   ]
  },
  {
   "cell_type": "code",
   "execution_count": null,
   "metadata": {},
   "outputs": [],
   "source": [
    "inspect.getsource(ducklib.auth.is_user_valid)"
   ]
  },
  {
   "cell_type": "markdown",
   "metadata": {},
   "source": [
    "OK. `inspect` reports that this is a builtin function or method and that it can't get it's source code. This is expected."
   ]
  },
  {
   "cell_type": "markdown",
   "metadata": {},
   "source": [
    "We may get some more details about the function of interest (*):"
   ]
  },
  {
   "cell_type": "code",
   "execution_count": null,
   "metadata": {},
   "outputs": [],
   "source": [
    "inspect.getfullargspec(ducklib.auth.is_user_valid)"
   ]
  },
  {
   "cell_type": "markdown",
   "metadata": {},
   "source": [
    "This tells us a lot!\n",
    "\n",
    "* The list of arguments!\n",
    "* Their default values!\n",
    "* Their types! (unicode)\n",
    "* Return value!\n",
    "\n",
    "Knowing all this, tampering the library is really easy!\n",
    "\n",
    "## Atack methods\n",
    "\n",
    "There are two methods to alter `ducklib` behaviour:\n",
    "\n",
    "1. Substitution of library compiled files.\n",
    "2. Purely python-based."
   ]
  },
  {
   "cell_type": "markdown",
   "metadata": {},
   "source": [
    "### Attack method #1\n",
    "\n",
    "Our attack will be aimed at `auth.is_user_valid` function. We will create our own malicious `auth` module and place it instead of original one in the virtual environment.\n",
    "\n",
    "Let's head towards the folder `ducklib-jammed` of the project.\n",
    "\n",
    "**Remember to restart kernel if you modify the library in the virtual enviroment!** This is needed to reload it from disc into memory."
   ]
  },
  {
   "cell_type": "markdown",
   "metadata": {},
   "source": [
    "### Automation of file replacement, use with caution\n",
    "\n",
    "If you have your virtual environments in `venv` folder for each of the `ducklib` repos, then you can use the script below to modify `auth` module."
   ]
  },
  {
   "cell_type": "code",
   "execution_count": null,
   "metadata": {},
   "outputs": [],
   "source": [
    "!cd ../ducklib-jammed && %CD%\\venv\\Scripts\\activate.bat && pip install cython~=0.29.16 && python setup.py bdist_wheel \n",
    "!copy %CD%\\..\\ducklib-jammed\\build\\lib.win-amd64-3.7\\ducklib\\auth.cp37-win_amd64.pyd %CD%\\venv\\Lib\\site-packages\\ducklib\\auth.cp37-win_amd64.pyd"
   ]
  },
  {
   "cell_type": "markdown",
   "metadata": {},
   "source": [
    "#### After library tampering\n",
    "\n",
    "Auth module is replaced, kernel has been rerstarted. We are ready to proceed."
   ]
  },
  {
   "cell_type": "code",
   "execution_count": null,
   "metadata": {},
   "outputs": [],
   "source": [
    "import ducklib"
   ]
  },
  {
   "cell_type": "code",
   "execution_count": null,
   "metadata": {},
   "outputs": [],
   "source": [
    "ducklib.main.say_hi()"
   ]
  },
  {
   "cell_type": "markdown",
   "metadata": {},
   "source": [
    "### Attack method #2\n",
    "\n",
    "Please restart the kernel!\n",
    "\n",
    "This is python-only method. In Python, we may reload functions at run-time. It is really easy to write wrappers/adapters, e.t.c.\n",
    "\n",
    "The success of this method may depend on how original `ducklib` library imports modules. (note to self: really?)\n",
    "\n",
    "This method will alter `auth_functions`. This module contains an additional function `configure()`. We do not want to modify that function, but rather to call the original one."
   ]
  },
  {
   "cell_type": "code",
   "execution_count": null,
   "metadata": {},
   "outputs": [],
   "source": [
    "import ducklib.auth_functions as auth_real"
   ]
  },
  {
   "cell_type": "code",
   "execution_count": null,
   "metadata": {},
   "outputs": [],
   "source": [
    "def my_validation(username='', pwd='') -> bool:\n",
    "    return True\n",
    "\n",
    "configure_original = auth_real.configure\n",
    "def my_configure():\n",
    "    print('Wrapper for real configure()')\n",
    "    return configure_original()"
   ]
  },
  {
   "cell_type": "code",
   "execution_count": null,
   "metadata": {},
   "outputs": [],
   "source": [
    "# change binding\n",
    "auth_real.is_user_valid = my_validation\n",
    "auth_real.configure = my_configure"
   ]
  },
  {
   "cell_type": "code",
   "execution_count": null,
   "metadata": {},
   "outputs": [],
   "source": [
    "# it's time to import, however auth_functions is already in the memory and won't be reloaded\n",
    "import ducklib"
   ]
  },
  {
   "cell_type": "code",
   "execution_count": null,
   "metadata": {},
   "outputs": [],
   "source": [
    "ducklib.start_chatting()"
   ]
  },
  {
   "cell_type": "markdown",
   "metadata": {},
   "source": [
    "## Closing remarks"
   ]
  },
  {
   "cell_type": "code",
   "execution_count": null,
   "metadata": {},
   "outputs": [],
   "source": [
    "import ducklib.auth\n",
    "type(ducklib.auth.is_user_valid)"
   ]
  },
  {
   "cell_type": "markdown",
   "metadata": {},
   "source": [
    "Observe that the type of function is `cython_function_or_method`. This was essential for getting `inspect` working. However, Cython can compile functions as `built-in`. In such cases, `inspect` won't be able to extract any information about the function.\n",
    "\n",
    "Let's compare it with library from repo `ducklib-builtin`. Install ducklib from `ducklib-builtin/dist`, proceed."
   ]
  },
  {
   "cell_type": "code",
   "execution_count": null,
   "metadata": {},
   "outputs": [],
   "source": [
    "import ducklib_builtin.auth\n",
    "type(ducklib_builtin.auth.is_user_valid)"
   ]
  },
  {
   "cell_type": "code",
   "execution_count": null,
   "metadata": {},
   "outputs": [],
   "source": [
    "import inspect\n",
    "inspect.getfullargspec(ducklib_builtin.auth.is_user_valid)"
   ]
  },
  {
   "cell_type": "markdown",
   "metadata": {},
   "source": [
    "Can we still apply Python-based attack? Restart kernel."
   ]
  },
  {
   "cell_type": "code",
   "execution_count": null,
   "metadata": {},
   "outputs": [],
   "source": [
    "import ducklib_builtin.auth_functions as auth_real\n",
    "def my_validation(username='', pwd='') -> bool:\n",
    "    return True\n",
    "\n",
    "configure_original = auth_real.configure\n",
    "def my_configure():\n",
    "    print('Wrapper for real configure()')\n",
    "    return configure_original()\n",
    "# change binding\n",
    "auth_real.is_user_valid = my_validation\n",
    "auth_real.configure = my_configure"
   ]
  },
  {
   "cell_type": "code",
   "execution_count": null,
   "metadata": {},
   "outputs": [],
   "source": [
    "import ducklib_builtin\n",
    "ducklib_builtin.start_chatting()"
   ]
  },
  {
   "cell_type": "markdown",
   "metadata": {},
   "source": [
    "Sweet! How about the code below? (restart kernel)"
   ]
  },
  {
   "cell_type": "code",
   "execution_count": null,
   "metadata": {},
   "outputs": [],
   "source": [
    "import ducklib_builtin.auth_functions as auth_real\n",
    "def my_validation(username='') -> bool:\n",
    "    return True\n",
    "\n",
    "configure_original = auth_real.configure\n",
    "def my_configure():\n",
    "    print('Wrapper for real configure()')\n",
    "    return configure_original()\n",
    "# change binding\n",
    "auth_real.is_user_valid = my_validation\n",
    "auth_real.configure = my_configure\n",
    "\n",
    "import ducklib_builtin\n",
    "ducklib_builtin.start_chatting()"
   ]
  },
  {
   "cell_type": "markdown",
   "metadata": {},
   "source": [
    "Ouch, we got information about the arguments, so we can now write correct wrapper."
   ]
  }
 ],
 "metadata": {
  "kernelspec": {
   "display_name": "Python 3",
   "language": "python",
   "name": "python3"
  },
  "language_info": {
   "codemirror_mode": {
    "name": "ipython",
    "version": 3
   },
   "file_extension": ".py",
   "mimetype": "text/x-python",
   "name": "python",
   "nbconvert_exporter": "python",
   "pygments_lexer": "ipython3",
   "version": "3.7.6"
  }
 },
 "nbformat": 4,
 "nbformat_minor": 4
}
